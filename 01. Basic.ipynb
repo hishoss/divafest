{
 "cells": [
  {
   "cell_type": "code",
   "execution_count": null,
   "metadata": {},
   "outputs": [],
   "source": [
    "!pip install requests beautifulsoup4 pandas"
   ]
  },
  {
   "cell_type": "code",
   "execution_count": null,
   "metadata": {
    "colab": {},
    "colab_type": "code",
    "id": "_FYScnNriNqU"
   },
   "outputs": [],
   "source": [
    "import requests\n",
    "from bs4 import BeautifulSoup"
   ]
  },
  {
   "cell_type": "markdown",
   "metadata": {},
   "source": [
    "### 1. We'll use the requests package to download the meqasa web page. The first page for rentals in this case"
   ]
  },
  {
   "cell_type": "code",
   "execution_count": null,
   "metadata": {
    "colab": {},
    "colab_type": "code",
    "id": "HqvULjwoiUOo"
   },
   "outputs": [],
   "source": [
    "results = requests.get(f'https://meqasa.com/houses-for-rent-in-ghana?w=1') "
   ]
  },
  {
   "cell_type": "markdown",
   "metadata": {},
   "source": [
    "### 2. We'll use beautiful soup to parse the web page"
   ]
  },
  {
   "cell_type": "code",
   "execution_count": null,
   "metadata": {},
   "outputs": [],
   "source": [
    "soup = BeautifulSoup(results.text,'lxml')"
   ]
  },
  {
   "cell_type": "markdown",
   "metadata": {
    "colab_type": "text",
    "id": "a_cF0o4DjIOr"
   },
   "source": [
    "### 3. Print out the parsed html web page"
   ]
  },
  {
   "cell_type": "code",
   "execution_count": null,
   "metadata": {
    "colab": {
     "base_uri": "https://localhost:8080/",
     "height": 1000
    },
    "colab_type": "code",
    "executionInfo": {
     "elapsed": 17192,
     "status": "ok",
     "timestamp": 1573849166344,
     "user": {
      "displayName": "Hisham Osman",
      "photoUrl": "https://lh3.googleusercontent.com/a-/AAuE7mB7MEoOyIJ6aFrnU72dd5_fdieTplnGkEQbDgjzcw=s64",
      "userId": "03144129284699670046"
     },
     "user_tz": 0
    },
    "id": "2Yd0ESPFiZBd",
    "outputId": "bbc55414-6c93-45c7-aba0-d091f50ff9bb"
   },
   "outputs": [],
   "source": [
    "soup"
   ]
  },
  {
   "cell_type": "markdown",
   "metadata": {
    "colab_type": "text",
    "id": "FFbr0usZkcSS"
   },
   "source": [
    "### 4. Select all listings on this page. These listings are embeded within a div tag with a class=\"mqs-featured-prop-inner-wrap\""
   ]
  },
  {
   "cell_type": "code",
   "execution_count": null,
   "metadata": {
    "colab": {
     "base_uri": "https://localhost:8080/",
     "height": 1000
    },
    "colab_type": "code",
    "executionInfo": {
     "elapsed": 17172,
     "status": "ok",
     "timestamp": 1573849166345,
     "user": {
      "displayName": "Hisham Osman",
      "photoUrl": "https://lh3.googleusercontent.com/a-/AAuE7mB7MEoOyIJ6aFrnU72dd5_fdieTplnGkEQbDgjzcw=s64",
      "userId": "03144129284699670046"
     },
     "user_tz": 0
    },
    "id": "eGs6PNPfij7F",
    "outputId": "abab76dc-53ae-4763-82d3-d94cce746060"
   },
   "outputs": [],
   "source": [
    "listings = soup.find_all(\"div\", class_=\"mqs-featured-prop-inner-wrap\")\n",
    "listings"
   ]
  },
  {
   "cell_type": "markdown",
   "metadata": {
    "colab_type": "text",
    "id": "0eckJ7IElvXH"
   },
   "source": [
    "### 5. Examine the first listed property"
   ]
  },
  {
   "cell_type": "code",
   "execution_count": null,
   "metadata": {
    "colab": {
     "base_uri": "https://localhost:8080/",
     "height": 919
    },
    "colab_type": "code",
    "executionInfo": {
     "elapsed": 17043,
     "status": "ok",
     "timestamp": 1573849166346,
     "user": {
      "displayName": "Hisham Osman",
      "photoUrl": "https://lh3.googleusercontent.com/a-/AAuE7mB7MEoOyIJ6aFrnU72dd5_fdieTplnGkEQbDgjzcw=s64",
      "userId": "03144129284699670046"
     },
     "user_tz": 0
    },
    "id": "37UvCVJ1jrTi",
    "outputId": "5c493dba-4b5a-4b8c-e530-b27601416be3"
   },
   "outputs": [],
   "source": [
    "prop = listings[0]\n",
    "prop"
   ]
  },
  {
   "cell_type": "markdown",
   "metadata": {},
   "source": [
    "### 6. We can use various methods in BeautifulSoup to retrieve html elements. Let's find all 'h2' tags"
   ]
  },
  {
   "cell_type": "code",
   "execution_count": null,
   "metadata": {
    "colab": {
     "base_uri": "https://localhost:8080/",
     "height": 71
    },
    "colab_type": "code",
    "executionInfo": {
     "elapsed": 17026,
     "status": "ok",
     "timestamp": 1573849166347,
     "user": {
      "displayName": "Hisham Osman",
      "photoUrl": "https://lh3.googleusercontent.com/a-/AAuE7mB7MEoOyIJ6aFrnU72dd5_fdieTplnGkEQbDgjzcw=s64",
      "userId": "03144129284699670046"
     },
     "user_tz": 0
    },
    "id": "zE2mwaaijt1w",
    "outputId": "6d97c89e-4564-497e-a1fa-0edbc1e58cfe"
   },
   "outputs": [],
   "source": [
    "prop.find_all('h2')"
   ]
  },
  {
   "cell_type": "markdown",
   "metadata": {},
   "source": [
    "### 7. We can also retrieve the first occurence of a tag"
   ]
  },
  {
   "cell_type": "code",
   "execution_count": null,
   "metadata": {
    "colab": {
     "base_uri": "https://localhost:8080/",
     "height": 71
    },
    "colab_type": "code",
    "executionInfo": {
     "elapsed": 17009,
     "status": "ok",
     "timestamp": 1573849166349,
     "user": {
      "displayName": "Hisham Osman",
      "photoUrl": "https://lh3.googleusercontent.com/a-/AAuE7mB7MEoOyIJ6aFrnU72dd5_fdieTplnGkEQbDgjzcw=s64",
      "userId": "03144129284699670046"
     },
     "user_tz": 0
    },
    "id": "I65Lm7VkmHki",
    "outputId": "594335bf-3af2-4806-a394-b7946b8ed14b"
   },
   "outputs": [],
   "source": [
    "prop.find('h2')"
   ]
  },
  {
   "cell_type": "markdown",
   "metadata": {},
   "source": [
    "### 8. Once we retrieve an element, we can access the text within it"
   ]
  },
  {
   "cell_type": "code",
   "execution_count": null,
   "metadata": {
    "colab": {
     "base_uri": "https://localhost:8080/",
     "height": 35
    },
    "colab_type": "code",
    "executionInfo": {
     "elapsed": 16999,
     "status": "ok",
     "timestamp": 1573849166353,
     "user": {
      "displayName": "Hisham Osman",
      "photoUrl": "https://lh3.googleusercontent.com/a-/AAuE7mB7MEoOyIJ6aFrnU72dd5_fdieTplnGkEQbDgjzcw=s64",
      "userId": "03144129284699670046"
     },
     "user_tz": 0
    },
    "id": "27y6WV1Dmo2g",
    "outputId": "1661eae6-1d16-4553-ac63-7a38973b27fd"
   },
   "outputs": [],
   "source": [
    "property_name = prop.find('h2').text\n",
    "property_name"
   ]
  },
  {
   "cell_type": "markdown",
   "metadata": {},
   "source": [
    "### 9. Notice the property name includes newline characters, so we're going to replace them with the empty string i.e ''"
   ]
  },
  {
   "cell_type": "code",
   "execution_count": null,
   "metadata": {
    "colab": {
     "base_uri": "https://localhost:8080/",
     "height": 35
    },
    "colab_type": "code",
    "executionInfo": {
     "elapsed": 16986,
     "status": "ok",
     "timestamp": 1573849166354,
     "user": {
      "displayName": "Hisham Osman",
      "photoUrl": "https://lh3.googleusercontent.com/a-/AAuE7mB7MEoOyIJ6aFrnU72dd5_fdieTplnGkEQbDgjzcw=s64",
      "userId": "03144129284699670046"
     },
     "user_tz": 0
    },
    "id": "D2AoJKSsm4KT",
    "outputId": "6b06f514-28c6-4242-af6b-d878a58f5b66"
   },
   "outputs": [],
   "source": [
    "property_name = prop.find('h2').text.replace('\\n', '')\n",
    "property_name"
   ]
  },
  {
   "cell_type": "markdown",
   "metadata": {},
   "source": [
    "### 10. Now, let's retrieve the property location"
   ]
  },
  {
   "cell_type": "code",
   "execution_count": null,
   "metadata": {
    "colab": {},
    "colab_type": "code",
    "id": "lD1kIcAOqwHn"
   },
   "outputs": [],
   "source": [
    "location = prop.find('h2').text.replace('\\n', '').split('at')[1]"
   ]
  },
  {
   "cell_type": "markdown",
   "metadata": {},
   "source": [
    "### 11. Next, the description"
   ]
  },
  {
   "cell_type": "code",
   "execution_count": null,
   "metadata": {
    "colab": {
     "base_uri": "https://localhost:8080/",
     "height": 107
    },
    "colab_type": "code",
    "executionInfo": {
     "elapsed": 16963,
     "status": "ok",
     "timestamp": 1573849166358,
     "user": {
      "displayName": "Hisham Osman",
      "photoUrl": "https://lh3.googleusercontent.com/a-/AAuE7mB7MEoOyIJ6aFrnU72dd5_fdieTplnGkEQbDgjzcw=s64",
      "userId": "03144129284699670046"
     },
     "user_tz": 0
    },
    "id": "hR9P5IUIr8sQ",
    "outputId": "a847b666-fb21-42b3-f6a7-bf02311c9581"
   },
   "outputs": [],
   "source": [
    "prop.find_all('p')"
   ]
  },
  {
   "cell_type": "markdown",
   "metadata": {},
   "source": [
    "### description seems to be the second element"
   ]
  },
  {
   "cell_type": "code",
   "execution_count": null,
   "metadata": {
    "colab": {},
    "colab_type": "code",
    "id": "WhGRIh17sI16"
   },
   "outputs": [],
   "source": [
    "description = prop.find_all('p')[1].text"
   ]
  },
  {
   "cell_type": "markdown",
   "metadata": {
    "colab_type": "text",
    "id": "gWuhnhLXlY9p"
   },
   "source": [
    "### 12. Let's find the number of beds"
   ]
  },
  {
   "cell_type": "code",
   "execution_count": null,
   "metadata": {
    "colab": {
     "base_uri": "https://localhost:8080/",
     "height": 35
    },
    "colab_type": "code",
    "executionInfo": {
     "elapsed": 16944,
     "status": "ok",
     "timestamp": 1573849166360,
     "user": {
      "displayName": "Hisham Osman",
      "photoUrl": "https://lh3.googleusercontent.com/a-/AAuE7mB7MEoOyIJ6aFrnU72dd5_fdieTplnGkEQbDgjzcw=s64",
      "userId": "03144129284699670046"
     },
     "user_tz": 0
    },
    "id": "Be5LActXlYsg",
    "outputId": "724296f0-28d6-49d9-c88e-e76b29b5ba8e"
   },
   "outputs": [],
   "source": [
    "prop.find('li', {'class': 'bed'})\n"
   ]
  },
  {
   "cell_type": "code",
   "execution_count": null,
   "metadata": {
    "colab": {},
    "colab_type": "code",
    "id": "L_ISIF6mnj9p"
   },
   "outputs": [],
   "source": [
    "beds = prop.find('li', {'class': 'bed'}).text"
   ]
  },
  {
   "cell_type": "markdown",
   "metadata": {
    "colab_type": "text",
    "id": "SzPu2z4Hl9ly"
   },
   "source": [
    "### 13. When scraping, we may encounter a lot of errors due to missing data. In this context, some elements within a listing may be missing, so calling .text immediately may not be wise. We'll write a small utility function which will call .text on an element if it exists, else, it'll return None"
   ]
  },
  {
   "cell_type": "code",
   "execution_count": null,
   "metadata": {
    "colab": {},
    "colab_type": "code",
    "id": "UunJNcGFmt3n"
   },
   "outputs": [],
   "source": [
    "prop.find('li', {'class': 'area'})"
   ]
  },
  {
   "cell_type": "code",
   "execution_count": null,
   "metadata": {
    "colab": {},
    "colab_type": "code",
    "id": "yKdGCDDGl6dZ"
   },
   "outputs": [],
   "source": [
    "def if_exists(x):\n",
    "    \"Return the text within the html element else return an empty string\"\n",
    "    if x is not None:\n",
    "        return x.text\n",
    "    else:\n",
    "        return ''"
   ]
  },
  {
   "cell_type": "markdown",
   "metadata": {},
   "source": [
    "### Try to retrieve these elements without using the 'if_exists' function. Any errors?"
   ]
  },
  {
   "cell_type": "code",
   "execution_count": null,
   "metadata": {},
   "outputs": [],
   "source": [
    "area = prop.find('li', {'class': 'area'})\n",
    "showers = prop.find('li', {'class': 'shower'})\n",
    "garages = prop.find('li', {'class': 'garage'})\n",
    "\n",
    "print('Area', area)\n",
    "print('Showers', showers)\n",
    "print('Garages', garages)"
   ]
  },
  {
   "cell_type": "markdown",
   "metadata": {},
   "source": [
    "### Let's use the utility function for safety"
   ]
  },
  {
   "cell_type": "code",
   "execution_count": null,
   "metadata": {
    "colab": {
     "base_uri": "https://localhost:8080/",
     "height": 71
    },
    "colab_type": "code",
    "executionInfo": {
     "elapsed": 16906,
     "status": "ok",
     "timestamp": 1573849166366,
     "user": {
      "displayName": "Hisham Osman",
      "photoUrl": "https://lh3.googleusercontent.com/a-/AAuE7mB7MEoOyIJ6aFrnU72dd5_fdieTplnGkEQbDgjzcw=s64",
      "userId": "03144129284699670046"
     },
     "user_tz": 0
    },
    "id": "BN2AWx4WsVF8",
    "outputId": "fc9bfce0-d9f4-4d2a-8071-78f977428258"
   },
   "outputs": [],
   "source": [
    "area = if_exists(prop.find('li', {'class': 'area'}))\n",
    "showers = if_exists(prop.find('li', {'class': 'shower'}))\n",
    "garages = if_exists(prop.find('li', {'class': 'garage'}))\n",
    "\n",
    "print('Area', area)\n",
    "print('Showers', showers)\n",
    "print('Garages', garages)"
   ]
  },
  {
   "cell_type": "code",
   "execution_count": null,
   "metadata": {
    "colab": {
     "base_uri": "https://localhost:8080/",
     "height": 35
    },
    "colab_type": "code",
    "executionInfo": {
     "elapsed": 16893,
     "status": "ok",
     "timestamp": 1573849166367,
     "user": {
      "displayName": "Hisham Osman",
      "photoUrl": "https://lh3.googleusercontent.com/a-/AAuE7mB7MEoOyIJ6aFrnU72dd5_fdieTplnGkEQbDgjzcw=s64",
      "userId": "03144129284699670046"
     },
     "user_tz": 0
    },
    "id": "K2X3eU_Tk7h2",
    "outputId": "4c3c5c97-437e-4367-85d4-ba8b3ce7616c"
   },
   "outputs": [],
   "source": [
    "price = if_exists(prop.find('p', {'class': 'h3'}))\n",
    "price"
   ]
  },
  {
   "cell_type": "markdown",
   "metadata": {
    "colab_type": "text",
    "id": "thZDS2Xlowhl"
   },
   "source": [
    "### 14. Price looks messy, so we'll clean it "
   ]
  },
  {
   "cell_type": "code",
   "execution_count": null,
   "metadata": {
    "colab": {
     "base_uri": "https://localhost:8080/",
     "height": 35
    },
    "colab_type": "code",
    "executionInfo": {
     "elapsed": 16876,
     "status": "ok",
     "timestamp": 1573849166369,
     "user": {
      "displayName": "Hisham Osman",
      "photoUrl": "https://lh3.googleusercontent.com/a-/AAuE7mB7MEoOyIJ6aFrnU72dd5_fdieTplnGkEQbDgjzcw=s64",
      "userId": "03144129284699670046"
     },
     "user_tz": 0
    },
    "id": "j08MUn6Yowx8",
    "outputId": "502c865f-26d1-4058-81a8-b4687682e290"
   },
   "outputs": [],
   "source": [
    "price = price.replace('\\n', '').replace('Price', '').split('/')[0]\n",
    "price"
   ]
  },
  {
   "cell_type": "markdown",
   "metadata": {},
   "source": [
    "### 15. Finally the url"
   ]
  },
  {
   "cell_type": "code",
   "execution_count": null,
   "metadata": {},
   "outputs": [],
   "source": [
    "url = prop.find('a').attrs['href']\n",
    "url"
   ]
  },
  {
   "cell_type": "markdown",
   "metadata": {},
   "source": [
    "### 16. Finally, place all the results into a python dictionary"
   ]
  },
  {
   "cell_type": "code",
   "execution_count": null,
   "metadata": {
    "colab": {
     "base_uri": "https://localhost:8080/",
     "height": 179
    },
    "colab_type": "code",
    "executionInfo": {
     "elapsed": 16865,
     "status": "ok",
     "timestamp": 1573849166372,
     "user": {
      "displayName": "Hisham Osman",
      "photoUrl": "https://lh3.googleusercontent.com/a-/AAuE7mB7MEoOyIJ6aFrnU72dd5_fdieTplnGkEQbDgjzcw=s64",
      "userId": "03144129284699670046"
     },
     "user_tz": 0
    },
    "id": "TBIrX9vUk8Th",
    "outputId": "26a46fdb-b607-4949-dde1-385fcb8c95ba"
   },
   "outputs": [],
   "source": [
    "{\n",
    "    'property': property_name,\n",
    "    'location': location,     \n",
    "    'beds': beds,\n",
    "    'showers': showers,\n",
    "    'garages': garages,\n",
    "    'area': area,\n",
    "    'description': description,\n",
    "    'price': price,\n",
    "    'url': url,\n",
    "}"
   ]
  },
  {
   "cell_type": "code",
   "execution_count": null,
   "metadata": {
    "colab": {},
    "colab_type": "code",
    "id": "BCRKdnD3pYdq"
   },
   "outputs": [],
   "source": []
  }
 ],
 "metadata": {
  "colab": {
   "collapsed_sections": [],
   "name": "01. Basic.ipynb",
   "provenance": []
  },
  "kernelspec": {
   "display_name": "Python 3",
   "language": "python",
   "name": "python3"
  },
  "language_info": {
   "codemirror_mode": {
    "name": "ipython",
    "version": 3
   },
   "file_extension": ".py",
   "mimetype": "text/x-python",
   "name": "python",
   "nbconvert_exporter": "python",
   "pygments_lexer": "ipython3",
   "version": "3.7.2"
  }
 },
 "nbformat": 4,
 "nbformat_minor": 4
}
