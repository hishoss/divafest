{
 "cells": [
  {
   "cell_type": "markdown",
   "metadata": {},
   "source": [
    "### 1. Same as the previous notebook"
   ]
  },
  {
   "cell_type": "code",
   "execution_count": null,
   "metadata": {},
   "outputs": [],
   "source": [
    "!pip install requests beautifulsoup4 pandas"
   ]
  },
  {
   "cell_type": "code",
   "execution_count": null,
   "metadata": {
    "colab": {},
    "colab_type": "code",
    "id": "TAFX34jce3bu"
   },
   "outputs": [],
   "source": [
    "import requests\n",
    "from bs4 import BeautifulSoup"
   ]
  },
  {
   "cell_type": "code",
   "execution_count": null,
   "metadata": {
    "colab": {},
    "colab_type": "code",
    "id": "Oi2DHhXjgdfq"
   },
   "outputs": [],
   "source": [
    "results = requests.get(f'https://meqasa.com/houses-for-rent-in-ghana?w=1') \n",
    "soup = BeautifulSoup(results.text,'lxml')"
   ]
  },
  {
   "cell_type": "code",
   "execution_count": null,
   "metadata": {
    "colab": {},
    "colab_type": "code",
    "id": "flNr1kOGs5Dz"
   },
   "outputs": [],
   "source": [
    "listings = soup.find_all(\"div\", class_=\"mqs-featured-prop-inner-wrap\")"
   ]
  },
  {
   "cell_type": "code",
   "execution_count": null,
   "metadata": {
    "colab": {},
    "colab_type": "code",
    "id": "dDuG0S-YheZS"
   },
   "outputs": [],
   "source": [
    "def if_exists(x):\n",
    "    \"Return the text within the html element else return an empty string\"\n",
    "    if x is not None:\n",
    "        return x.text\n",
    "    else:\n",
    "        return ''"
   ]
  },
  {
   "cell_type": "markdown",
   "metadata": {},
   "source": [
    "### 2. We'll put together all the code we used in the previous notebook but under a loop. We'll then append the results of each listing into a variable named properties"
   ]
  },
  {
   "cell_type": "code",
   "execution_count": null,
   "metadata": {
    "colab": {},
    "colab_type": "code",
    "id": "BaDIvID0gOLY"
   },
   "outputs": [],
   "source": [
    "properties = []\n",
    "\n",
    "for prop in listings:\n",
    "    property_name = prop.find('h2').text.replace('\\n', '')\n",
    "    location = prop.find('h2').text.replace('\\n', '').split('at')[1]\n",
    "    description = if_exists(prop.find_all('p')[1])\n",
    "    beds = if_exists(prop.find('li', {'class': 'bed'}))\n",
    "    area = if_exists(prop.find('li', {'class': 'area'}))\n",
    "    showers = if_exists(prop.find('li', {'class': 'shower'}))\n",
    "    garages = if_exists(prop.find('li', {'class': 'garage'}))\n",
    "    url = prop.find('a').attrs['href']\n",
    "\n",
    "    price = if_exists(prop.find('p', {'class': 'h3'}))\n",
    "    price = price.replace('\\n', '').replace('Price', '').split('/')[0]\n",
    "\n",
    "\n",
    "\n",
    "    properties.append(\n",
    "      {\n",
    "          'property': property_name,\n",
    "          'location': location,     \n",
    "          'beds': beds,\n",
    "          'showers': showers,\n",
    "          'garages': garages,\n",
    "          'area': area,\n",
    "          'description': description,\n",
    "          'price': price,\n",
    "          'url': url,\n",
    "      }\n",
    "    )"
   ]
  },
  {
   "cell_type": "markdown",
   "metadata": {},
   "source": [
    "### 3. Check the contents of properties"
   ]
  },
  {
   "cell_type": "code",
   "execution_count": null,
   "metadata": {
    "colab": {
     "base_uri": "https://localhost:8080/",
     "height": 1000
    },
    "colab_type": "code",
    "executionInfo": {
     "elapsed": 4772,
     "status": "ok",
     "timestamp": 1573849070467,
     "user": {
      "displayName": "Hisham Osman",
      "photoUrl": "https://lh3.googleusercontent.com/a-/AAuE7mB7MEoOyIJ6aFrnU72dd5_fdieTplnGkEQbDgjzcw=s64",
      "userId": "03144129284699670046"
     },
     "user_tz": 0
    },
    "id": "nL9DhSpRhilZ",
    "outputId": "a6374524-445f-4492-c0d2-40262cff5dcb"
   },
   "outputs": [],
   "source": [
    "properties"
   ]
  },
  {
   "cell_type": "markdown",
   "metadata": {},
   "source": [
    "### 4. We'll use pandas to put this data in a tabular format"
   ]
  },
  {
   "cell_type": "code",
   "execution_count": null,
   "metadata": {
    "colab": {},
    "colab_type": "code",
    "id": "umdn9Jh2hwGW"
   },
   "outputs": [],
   "source": [
    "import pandas as pd"
   ]
  },
  {
   "cell_type": "code",
   "execution_count": null,
   "metadata": {
    "colab": {},
    "colab_type": "code",
    "id": "tZWC-k2ct0mq"
   },
   "outputs": [],
   "source": [
    "df = pd.DataFrame(properties)\n",
    "df"
   ]
  },
  {
   "cell_type": "markdown",
   "metadata": {},
   "source": [
    "### 5. Finally write this out to a csv"
   ]
  },
  {
   "cell_type": "code",
   "execution_count": null,
   "metadata": {
    "colab": {
     "base_uri": "https://localhost:8080/",
     "height": 1000
    },
    "colab_type": "code",
    "executionInfo": {
     "elapsed": 2359,
     "status": "ok",
     "timestamp": 1573849300026,
     "user": {
      "displayName": "Hisham Osman",
      "photoUrl": "https://lh3.googleusercontent.com/a-/AAuE7mB7MEoOyIJ6aFrnU72dd5_fdieTplnGkEQbDgjzcw=s64",
      "userId": "03144129284699670046"
     },
     "user_tz": 0
    },
    "id": "0MaGHUVLt4UP",
    "outputId": "cc4634b9-d7b9-4354-8e47-ac362bc8df3e"
   },
   "outputs": [],
   "source": [
    "df.to_csv('real_estate_listing.csv', index=False)"
   ]
  },
  {
   "cell_type": "markdown",
   "metadata": {
    "colab": {},
    "colab_type": "code",
    "id": "wNpf6TlKt5Qc"
   },
   "source": [
    "### Exercise.\n",
    "### 1. Separate the currency and the amount\n",
    "### 2. Get the apartment type\n",
    "### 3. Get the time posted"
   ]
  },
  {
   "cell_type": "code",
   "execution_count": null,
   "metadata": {},
   "outputs": [],
   "source": []
  }
 ],
 "metadata": {
  "colab": {
   "name": "02. Intermediate.ipynb",
   "provenance": []
  },
  "kernelspec": {
   "display_name": "Python 3",
   "language": "python",
   "name": "python3"
  },
  "language_info": {
   "codemirror_mode": {
    "name": "ipython",
    "version": 3
   },
   "file_extension": ".py",
   "mimetype": "text/x-python",
   "name": "python",
   "nbconvert_exporter": "python",
   "pygments_lexer": "ipython3",
   "version": "3.7.2"
  }
 },
 "nbformat": 4,
 "nbformat_minor": 4
}
